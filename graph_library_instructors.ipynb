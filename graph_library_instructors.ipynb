{
 "cells": [
  {
   "cell_type": "code",
   "execution_count": 17,
   "metadata": {},
   "outputs": [],
   "source": [
    "import pandas as pd\n",
    "import matplotlib.pyplot as plt"
   ]
  },
  {
   "cell_type": "code",
   "execution_count": 18,
   "metadata": {},
   "outputs": [
    {
     "data": {
      "text/plain": [
       "(92, 125)"
      ]
     },
     "execution_count": 18,
     "metadata": {},
     "output_type": "execute_result"
    }
   ],
   "source": [
    "wk = pd.read_excel('ucsb_workshops_list_addedAffiliation.xlsx', sheet_name='comp_wkshp_instr')\n",
    "wk.shape"
   ]
  },
  {
   "cell_type": "code",
   "execution_count": 19,
   "metadata": {},
   "outputs": [],
   "source": [
    "# Remove UC workshops\n",
    "wk = wk.loc[~wk['title_home'].str.contains('UC '), :]\n",
    "\n",
    "# Remove workshop without dates\n",
    "wk = wk.loc[wk['date']!='[]', :]"
   ]
  },
  {
   "cell_type": "code",
   "execution_count": 20,
   "metadata": {},
   "outputs": [],
   "source": [
    "# Fix date without proper format\n",
    "wk['date'] = wk['date'].str.replace('2022-11-8', '2022-11-08')\n",
    "wk['month_day'] = wk['date'].str.replace('-', '').str[4:].astype(int)\n",
    "wk['quarter'] = pd.cut(wk['month_day'],\n",
    "                                 bins=[0, 331, 615, 915, 1231],\n",
    "                                 labels=[\"Winter\", \"Spring\", \"Summer\", \"Fall\"],\n",
    "                                 include_lowest=True)"
   ]
  },
  {
   "cell_type": "code",
   "execution_count": 21,
   "metadata": {},
   "outputs": [],
   "source": [
    "# From wide to long\n",
    "df = pd.melt(wk.drop(columns='month_day'), id_vars=['date', 'title_home', 'quarter'], value_name='role', var_name='Name').dropna(subset='role')"
   ]
  },
  {
   "cell_type": "code",
   "execution_count": 22,
   "metadata": {},
   "outputs": [
    {
     "data": {
      "application/vnd.microsoft.datawrangler.viewer.v0+json": {
       "columns": [
        {
         "name": "index",
         "rawType": "int64",
         "type": "integer"
        },
        {
         "name": "date",
         "rawType": "object",
         "type": "string"
        },
        {
         "name": "title_home",
         "rawType": "object",
         "type": "string"
        },
        {
         "name": "quarter",
         "rawType": "category",
         "type": "unknown"
        },
        {
         "name": "Name",
         "rawType": "object",
         "type": "string"
        },
        {
         "name": "role",
         "rawType": "object",
         "type": "string"
        }
       ],
       "conversionMethod": "pd.DataFrame",
       "ref": "4957c8d3-0999-4c57-b39e-15cc21e17da4",
       "rows": [
        [
         "176",
         "2025-01-23",
         "Working with Geospatial Data in R",
         "Winter",
         "Allie Caughman",
         "instructor"
        ],
        [
         "290",
         "2022-08-16",
         "Machine Learning for Tabular Data in R",
         "Summer",
         "Amanda Ho",
         "helper"
        ],
        [
         "291",
         "2022-08-09",
         "Intro to Geospatial Raster and Vector Data with R",
         "Summer",
         "Amanda Ho",
         "helper"
        ],
        [
         "292",
         "2022-07-26",
         "Intro to Data Analysis and Visualization in R",
         "Summer",
         "Amanda Ho",
         "instructor"
        ],
        [
         "293",
         "2022-07-19",
         "Version Control with Git",
         "Summer",
         "Amanda Ho",
         "instructor"
        ],
        [
         "294",
         "2022-07-12",
         "Intro to Bash-Shell",
         "Summer",
         "Amanda Ho",
         "instructor"
        ],
        [
         "295",
         "2022-05-26",
         "Harvesting Twitter with Twarc",
         "Spring",
         "Amanda Ho",
         "instructor"
        ],
        [
         "296",
         "2022-05-12",
         "Introduction to Webscraping",
         "Spring",
         "Amanda Ho",
         "helper"
        ],
        [
         "297",
         "2022-04-19",
         "Data Analysis and Visualization in Python",
         "Spring",
         "Amanda Ho",
         "instructor"
        ],
        [
         "298",
         "2022-04-14",
         "Intro to OpenRefine",
         "Spring",
         "Amanda Ho",
         "helper"
        ],
        [
         "299",
         "2022-04-11",
         "Intro to Geospatial Raster and Vector Data in R",
         "Spring",
         "Amanda Ho",
         "helper"
        ],
        [
         "300",
         "2022-04-07",
         "Intro to Geospatial Raster and Vector Data in R",
         "Spring",
         "Amanda Ho",
         "helper"
        ],
        [
         "301",
         "2022-03-02",
         "Reproducible Publications with RStudio",
         "Winter",
         "Amanda Ho",
         "helper"
        ],
        [
         "302",
         "2022-02-24",
         "Intro to R for Data Visualization",
         "Winter",
         "Amanda Ho",
         "instructor"
        ],
        [
         "303",
         "2022-02-15",
         "SEEDS - Intro to R (SEEDS ONLY event)",
         "Winter",
         "Amanda Ho",
         "helper"
        ],
        [
         "304",
         "2022-02-07",
         "SEEDS - Intro to R (SEEDS ONLY event)",
         "Winter",
         "Amanda Ho",
         "helper"
        ],
        [
         "305",
         "2022-02-04",
         "Bren School MEDS - Relational Databases and SQL",
         "Winter",
         "Amanda Ho",
         "instructor"
        ],
        [
         "306",
         "2022-01-31",
         "Webpublishing with Github Pages (SEEDS ONLY event)",
         "Winter",
         "Amanda Ho",
         "instructor"
        ],
        [
         "307",
         "2022-01-28",
         "Webpublishing with Github Pages",
         "Winter",
         "Amanda Ho",
         "instructor"
        ],
        [
         "308",
         "2022-01-12",
         "SEEDS - Intro to Git/Bash Workshop (SEEDS event)",
         "Winter",
         "Amanda Ho",
         "instructor"
        ],
        [
         "309",
         "2022-01-04",
         "Bren School MEDS - Python Programming",
         "Winter",
         "Amanda Ho",
         "instructor"
        ],
        [
         "310",
         "2021-12-14",
         "Intro to Git/Bash Workshop",
         "Fall",
         "Amanda Ho",
         "helper"
        ],
        [
         "311",
         "2021-11-04",
         "Software Carpentry: Intro to SQL and Relational Databases",
         "Fall",
         "Amanda Ho",
         "instructor"
        ],
        [
         "312",
         "2021-10-19",
         "Data Carpentry: Intro to Python",
         "Fall",
         "Amanda Ho",
         "helper"
        ],
        [
         "371",
         "2023-01-23",
         "Mondays R for Social Science",
         "Winter",
         "Amber Budden",
         "helper"
        ],
        [
         "438",
         "2024-10-22",
         "Version Control with Git and GitHub",
         "Fall",
         "Amber Chen",
         "helper"
        ],
        [
         "553",
         "2022-05-26",
         "Harvesting Twitter with Twarc",
         "Spring",
         "Amelia Meyer",
         "helper"
        ],
        [
         "555",
         "2022-04-19",
         "Data Analysis and Visualization in Python",
         "Spring",
         "Amelia Meyer",
         "helper"
        ],
        [
         "558",
         "2022-04-07",
         "Intro to Geospatial Raster and Vector Data in R",
         "Spring",
         "Amelia Meyer",
         "helper"
        ],
        [
         "559",
         "2022-03-02",
         "Reproducible Publications with RStudio",
         "Winter",
         "Amelia Meyer",
         "helper"
        ],
        [
         "563",
         "2022-02-04",
         "Bren School MEDS - Relational Databases and SQL",
         "Winter",
         "Amelia Meyer",
         "helper"
        ],
        [
         "564",
         "2022-01-31",
         "Webpublishing with Github Pages (SEEDS ONLY event)",
         "Winter",
         "Amelia Meyer",
         "helper"
        ],
        [
         "566",
         "2022-01-12",
         "SEEDS - Intro to Git/Bash Workshop (SEEDS event)",
         "Winter",
         "Amelia Meyer",
         "helper"
        ],
        [
         "568",
         "2021-12-14",
         "Intro to Git/Bash Workshop",
         "Fall",
         "Amelia Meyer",
         "helper"
        ],
        [
         "573",
         "2021-08-16",
         "Intro to R",
         "Summer",
         "Amelia Meyer",
         "helper"
        ],
        [
         "574",
         "2021-08-23",
         "Intro to Python",
         "Summer",
         "Amelia Meyer",
         "helper"
        ],
        [
         "576",
         "2021-05-06",
         "Intro to R",
         "Spring",
         "Amelia Meyer",
         "helper"
        ],
        [
         "734",
         "2022-02-07",
         "SEEDS - Intro to R (SEEDS ONLY event)",
         "Winter",
         "Anita Carraher",
         "helper"
        ],
        [
         "736",
         "2022-01-31",
         "Webpublishing with Github Pages (SEEDS ONLY event)",
         "Winter",
         "Anita Carraher",
         "helper"
        ],
        [
         "737",
         "2022-01-28",
         "Webpublishing with Github Pages",
         "Winter",
         "Anita Carraher",
         "helper"
        ],
        [
         "740",
         "2021-12-14",
         "Intro to Git/Bash Workshop",
         "Fall",
         "Anita Carraher",
         "helper"
        ],
        [
         "998",
         "2021-12-14",
         "Intro to Git/Bash Workshop",
         "Fall",
         "Annie Huang",
         "helper"
        ],
        [
         "1032",
         "2025-02-25",
         "Introduction to Machine Learning in Python",
         "Winter",
         "Arieanna Balbar",
         "helper"
        ],
        [
         "1036",
         "2025-01-23",
         "Working with Geospatial Data in R",
         "Winter",
         "Arieanna Balbar",
         "helper"
        ],
        [
         "1179",
         "2021-02-18",
         "Data Carpentry: Ecology with Python",
         "Winter",
         "Austin Covey",
         "helper"
        ],
        [
         "1240",
         "2022-07-12",
         "Intro to Bash-Shell",
         "Summer",
         "Brian Dincau",
         "helper"
        ],
        [
         "1293",
         "2025-02-03",
         "Research Computing - What to do when your work gets too big for your laptop",
         "Winter",
         "Brian Emery",
         "instructor"
        ],
        [
         "1433",
         "2021-08-16",
         "Intro to R",
         "Summer",
         "Britta Schumacher",
         "instructor"
        ],
        [
         "1435",
         "2021-05-12",
         "R for GeoSpatial",
         "Spring",
         "Britta Schumacher",
         "instructor"
        ],
        [
         "1522",
         "2021-05-06",
         "Intro to R",
         "Spring",
         "Camila Vargas-Poulsen",
         "instructor"
        ]
       ],
       "shape": {
        "columns": 5,
        "rows": 481
       }
      },
      "text/html": [
       "<div>\n",
       "<style scoped>\n",
       "    .dataframe tbody tr th:only-of-type {\n",
       "        vertical-align: middle;\n",
       "    }\n",
       "\n",
       "    .dataframe tbody tr th {\n",
       "        vertical-align: top;\n",
       "    }\n",
       "\n",
       "    .dataframe thead th {\n",
       "        text-align: right;\n",
       "    }\n",
       "</style>\n",
       "<table border=\"1\" class=\"dataframe\">\n",
       "  <thead>\n",
       "    <tr style=\"text-align: right;\">\n",
       "      <th></th>\n",
       "      <th>date</th>\n",
       "      <th>title_home</th>\n",
       "      <th>quarter</th>\n",
       "      <th>Name</th>\n",
       "      <th>role</th>\n",
       "    </tr>\n",
       "  </thead>\n",
       "  <tbody>\n",
       "    <tr>\n",
       "      <th>176</th>\n",
       "      <td>2025-01-23</td>\n",
       "      <td>Working with Geospatial Data in R</td>\n",
       "      <td>Winter</td>\n",
       "      <td>Allie Caughman</td>\n",
       "      <td>instructor</td>\n",
       "    </tr>\n",
       "    <tr>\n",
       "      <th>290</th>\n",
       "      <td>2022-08-16</td>\n",
       "      <td>Machine Learning for Tabular Data in R</td>\n",
       "      <td>Summer</td>\n",
       "      <td>Amanda Ho</td>\n",
       "      <td>helper</td>\n",
       "    </tr>\n",
       "    <tr>\n",
       "      <th>291</th>\n",
       "      <td>2022-08-09</td>\n",
       "      <td>Intro to Geospatial Raster and Vector Data with R</td>\n",
       "      <td>Summer</td>\n",
       "      <td>Amanda Ho</td>\n",
       "      <td>helper</td>\n",
       "    </tr>\n",
       "    <tr>\n",
       "      <th>292</th>\n",
       "      <td>2022-07-26</td>\n",
       "      <td>Intro to Data Analysis and Visualization in R</td>\n",
       "      <td>Summer</td>\n",
       "      <td>Amanda Ho</td>\n",
       "      <td>instructor</td>\n",
       "    </tr>\n",
       "    <tr>\n",
       "      <th>293</th>\n",
       "      <td>2022-07-19</td>\n",
       "      <td>Version Control with Git</td>\n",
       "      <td>Summer</td>\n",
       "      <td>Amanda Ho</td>\n",
       "      <td>instructor</td>\n",
       "    </tr>\n",
       "    <tr>\n",
       "      <th>...</th>\n",
       "      <td>...</td>\n",
       "      <td>...</td>\n",
       "      <td>...</td>\n",
       "      <td>...</td>\n",
       "      <td>...</td>\n",
       "    </tr>\n",
       "    <tr>\n",
       "      <th>10403</th>\n",
       "      <td>2019-03-21</td>\n",
       "      <td>Bash, Git &amp; R</td>\n",
       "      <td>Winter</td>\n",
       "      <td>Yuan Wu</td>\n",
       "      <td>instructor</td>\n",
       "    </tr>\n",
       "    <tr>\n",
       "      <th>10404</th>\n",
       "      <td>2019-02-21</td>\n",
       "      <td>Bash, Git &amp; R</td>\n",
       "      <td>Winter</td>\n",
       "      <td>Yuan Wu</td>\n",
       "      <td>instructor</td>\n",
       "    </tr>\n",
       "    <tr>\n",
       "      <th>10405</th>\n",
       "      <td>2019-01-25</td>\n",
       "      <td>Bash, Git &amp; R</td>\n",
       "      <td>Winter</td>\n",
       "      <td>Yuan Wu</td>\n",
       "      <td>instructor</td>\n",
       "    </tr>\n",
       "    <tr>\n",
       "      <th>10480</th>\n",
       "      <td>2020-01-31</td>\n",
       "      <td>Databases and SQL</td>\n",
       "      <td>Winter</td>\n",
       "      <td>Zach Sisco</td>\n",
       "      <td>instructor</td>\n",
       "    </tr>\n",
       "    <tr>\n",
       "      <th>10484</th>\n",
       "      <td>2019-10-24</td>\n",
       "      <td>Git &amp; Bash</td>\n",
       "      <td>Fall</td>\n",
       "      <td>Zach Sisco</td>\n",
       "      <td>instructor</td>\n",
       "    </tr>\n",
       "  </tbody>\n",
       "</table>\n",
       "<p>481 rows × 5 columns</p>\n",
       "</div>"
      ],
      "text/plain": [
       "             date                                         title_home quarter  \\\n",
       "176    2025-01-23                  Working with Geospatial Data in R  Winter   \n",
       "290    2022-08-16             Machine Learning for Tabular Data in R  Summer   \n",
       "291    2022-08-09  Intro to Geospatial Raster and Vector Data with R  Summer   \n",
       "292    2022-07-26      Intro to Data Analysis and Visualization in R  Summer   \n",
       "293    2022-07-19                           Version Control with Git  Summer   \n",
       "...           ...                                                ...     ...   \n",
       "10403  2019-03-21                                      Bash, Git & R  Winter   \n",
       "10404  2019-02-21                                      Bash, Git & R  Winter   \n",
       "10405  2019-01-25                                      Bash, Git & R  Winter   \n",
       "10480  2020-01-31                                  Databases and SQL  Winter   \n",
       "10484  2019-10-24                                         Git & Bash    Fall   \n",
       "\n",
       "                 Name        role  \n",
       "176    Allie Caughman  instructor  \n",
       "290         Amanda Ho      helper  \n",
       "291         Amanda Ho      helper  \n",
       "292         Amanda Ho  instructor  \n",
       "293         Amanda Ho  instructor  \n",
       "...               ...         ...  \n",
       "10403         Yuan Wu  instructor  \n",
       "10404         Yuan Wu  instructor  \n",
       "10405         Yuan Wu  instructor  \n",
       "10480      Zach Sisco  instructor  \n",
       "10484      Zach Sisco  instructor  \n",
       "\n",
       "[481 rows x 5 columns]"
      ]
     },
     "execution_count": 22,
     "metadata": {},
     "output_type": "execute_result"
    }
   ],
   "source": [
    "df"
   ]
  },
  {
   "cell_type": "code",
   "execution_count": 23,
   "metadata": {},
   "outputs": [],
   "source": [
    "# Merge with list of instructors\n",
    "inst = pd.read_excel('ucsb_workshops_list_addedAffiliation.xlsx', sheet_name='summary_instr')\n",
    "df = df.merge(inst[['Name', 'Affiliation']], how='left', on='Name')"
   ]
  },
  {
   "cell_type": "code",
   "execution_count": 24,
   "metadata": {},
   "outputs": [],
   "source": [
    "# Drop duplicates\n",
    "df = df.drop_duplicates()"
   ]
  },
  {
   "cell_type": "code",
   "execution_count": 25,
   "metadata": {},
   "outputs": [],
   "source": [
    "# Replace Jose from DREAM Lab to Other in 2024-02-27 and 2024-01-30\n",
    "df.loc[((df['date']=='2024-02-27') | (df['date']=='2024-01-30')) & (df['Name']=='Jose Niño Muriel'), 'Affiliation'] = 'Other'"
   ]
  },
  {
   "cell_type": "code",
   "execution_count": 26,
   "metadata": {},
   "outputs": [],
   "source": [
    "# Create column year\n",
    "df['year'] = df['date'].str[:4].astype(int)"
   ]
  },
  {
   "cell_type": "code",
   "execution_count": 27,
   "metadata": {},
   "outputs": [],
   "source": [
    "# Define academic year grouping\n",
    "def get_academic_year(row):\n",
    "    quarter, year = row['quarter'], row['year']\n",
    "    if quarter in ['Fall']:\n",
    "        return f\"{year}-{year + 1}\"\n",
    "    else:\n",
    "        return f\"{year-1}-{year}\"\n",
    "\n",
    "df['academic-year'] = df.apply(get_academic_year, axis=1)"
   ]
  },
  {
   "cell_type": "code",
   "execution_count": 28,
   "metadata": {},
   "outputs": [],
   "source": [
    "def sort_quarter_year(quarter_year):\n",
    "    quarter, year = quarter_year.split()\n",
    "    year = int(year)  # Convert year to integer\n",
    "    quarter_order = {'Winter': 1, 'Spring': 2, 'Summer': 3, 'Fall': 4}  # Define quarter order\n",
    "    return (year, quarter_order[quarter])  # Sort by year first, then quarter order"
   ]
  },
  {
   "cell_type": "code",
   "execution_count": 29,
   "metadata": {},
   "outputs": [],
   "source": [
    "# Define the correct order of the quarters\n",
    "quarter_order = ['Winter', 'Spring', 'Summer', 'Fall']\n",
    "\n",
    "# Convert 'quarter' column to a categorical type with the defined order\n",
    "df['quarter'] = pd.Categorical(df['quarter'], categories=quarter_order, ordered=True)\n",
    "\n",
    "# Sort by 'year' and 'quarter' to ensure proper ordering\n",
    "df = df.sort_values(['year', 'quarter'])\n",
    "\n",
    "# Create a new 'quarter-year' column with the updated order\n",
    "df['quarter-year'] = df['quarter'].astype(str) + ' ' + df['year'].astype(str)"
   ]
  },
  {
   "cell_type": "code",
   "execution_count": 43,
   "metadata": {},
   "outputs": [
    {
     "data": {
      "application/vnd.microsoft.datawrangler.viewer.v0+json": {
       "columns": [
        {
         "name": "index",
         "rawType": "int64",
         "type": "integer"
        },
        {
         "name": "date",
         "rawType": "object",
         "type": "string"
        },
        {
         "name": "title_home",
         "rawType": "object",
         "type": "string"
        },
        {
         "name": "quarter",
         "rawType": "category",
         "type": "unknown"
        },
        {
         "name": "Name",
         "rawType": "object",
         "type": "string"
        },
        {
         "name": "role",
         "rawType": "object",
         "type": "string"
        },
        {
         "name": "Affiliation",
         "rawType": "object",
         "type": "unknown"
        },
        {
         "name": "year",
         "rawType": "int64",
         "type": "integer"
        },
        {
         "name": "academic-year",
         "rawType": "object",
         "type": "string"
        },
        {
         "name": "quarter-year",
         "rawType": "object",
         "type": "string"
        }
       ],
       "conversionMethod": "pd.DataFrame",
       "ref": "c6f16357-14b9-49bb-b5ba-b3fcee8970dc",
       "rows": [
        [
         "111",
         "2019-03-21",
         "Bash, Git & R",
         "Winter",
         "Greg Janée",
         "instructor",
         "RDS",
         "2019",
         "2018-2019",
         "Winter 2019"
        ],
        [
         "112",
         "2019-02-21",
         "Bash, Git & R",
         "Winter",
         "Greg Janée",
         "instructor",
         "RDS",
         "2019",
         "2018-2019",
         "Winter 2019"
        ],
        [
         "113",
         "2019-01-25",
         "Bash, Git & R",
         "Winter",
         "Greg Janée",
         "instructor",
         "RDS",
         "2019",
         "2018-2019",
         "Winter 2019"
        ],
        [
         "138",
         "2019-03-21",
         "Bash, Git & R",
         "Winter",
         "Ian Lessing",
         "instructor",
         "Other Library",
         "2019",
         "2018-2019",
         "Winter 2019"
        ],
        [
         "139",
         "2019-02-21",
         "Bash, Git & R",
         "Winter",
         "Ian Lessing",
         "instructor",
         "Other Library",
         "2019",
         "2018-2019",
         "Winter 2019"
        ],
        [
         "140",
         "2019-01-25",
         "Bash, Git & R",
         "Winter",
         "Ian Lessing",
         "instructor",
         "Other Library",
         "2019",
         "2018-2019",
         "Winter 2019"
        ],
        [
         "213",
         "2019-03-21",
         "Bash, Git & R",
         "Winter",
         "Jon Jablonski",
         "instructor",
         "DREAM Lab",
         "2019",
         "2018-2019",
         "Winter 2019"
        ],
        [
         "214",
         "2019-02-21",
         "Bash, Git & R",
         "Winter",
         "Jon Jablonski",
         "instructor",
         "DREAM Lab",
         "2019",
         "2018-2019",
         "Winter 2019"
        ],
        [
         "215",
         "2019-01-25",
         "Bash, Git & R",
         "Winter",
         "Jon Jablonski",
         "instructor",
         "DREAM Lab",
         "2019",
         "2018-2019",
         "Winter 2019"
        ],
        [
         "247",
         "2019-01-25",
         "Bash, Git & R",
         "Winter",
         "Katja Seltmann",
         "instructor",
         "Other",
         "2019",
         "2018-2019",
         "Winter 2019"
        ],
        [
         "323",
         "2019-03-21",
         "Bash, Git & R",
         "Winter",
         "Mary Donovan",
         "instructor",
         "Other",
         "2019",
         "2018-2019",
         "Winter 2019"
        ],
        [
         "324",
         "2019-02-21",
         "Bash, Git & R",
         "Winter",
         "Mary Donovan",
         "instructor",
         "Other",
         "2019",
         "2018-2019",
         "Winter 2019"
        ],
        [
         "325",
         "2019-01-25",
         "Bash, Git & R",
         "Winter",
         "Mary Donovan",
         "instructor",
         "Other",
         "2019",
         "2018-2019",
         "Winter 2019"
        ],
        [
         "435",
         "2019-03-21",
         "Bash, Git & R",
         "Winter",
         "Sharon Solis",
         "instructor",
         "Other",
         "2019",
         "2018-2019",
         "Winter 2019"
        ],
        [
         "436",
         "2019-02-21",
         "Bash, Git & R",
         "Winter",
         "Sharon Solis",
         "instructor",
         "Other",
         "2019",
         "2018-2019",
         "Winter 2019"
        ],
        [
         "437",
         "2019-01-25",
         "Bash, Git & R",
         "Winter",
         "Sharon Solis",
         "instructor",
         "Other",
         "2019",
         "2018-2019",
         "Winter 2019"
        ],
        [
         "476",
         "2019-03-21",
         "Bash, Git & R",
         "Winter",
         "Yuan Wu",
         "instructor",
         "Other Library",
         "2019",
         "2018-2019",
         "Winter 2019"
        ],
        [
         "477",
         "2019-02-21",
         "Bash, Git & R",
         "Winter",
         "Yuan Wu",
         "instructor",
         "Other Library",
         "2019",
         "2018-2019",
         "Winter 2019"
        ],
        [
         "478",
         "2019-01-25",
         "Bash, Git & R",
         "Winter",
         "Yuan Wu",
         "instructor",
         "Other Library",
         "2019",
         "2018-2019",
         "Winter 2019"
        ],
        [
         "109",
         "2019-05-09",
         "Bash, Git & Python Workshop",
         "Spring",
         "Greg Janée",
         "instructor",
         "RDS",
         "2019",
         "2018-2019",
         "Spring 2019"
        ],
        [
         "110",
         "2019-04-11",
         "Bash, Git & R Workshop",
         "Spring",
         "Greg Janée",
         "instructor",
         "RDS",
         "2019",
         "2018-2019",
         "Spring 2019"
        ],
        [
         "136",
         "2019-05-09",
         "Bash, Git & Python Workshop",
         "Spring",
         "Ian Lessing",
         "instructor",
         "Other Library",
         "2019",
         "2018-2019",
         "Spring 2019"
        ],
        [
         "137",
         "2019-04-11",
         "Bash, Git & R Workshop",
         "Spring",
         "Ian Lessing",
         "instructor",
         "Other Library",
         "2019",
         "2018-2019",
         "Spring 2019"
        ],
        [
         "211",
         "2019-05-09",
         "Bash, Git & Python Workshop",
         "Spring",
         "Jon Jablonski",
         "instructor",
         "DREAM Lab",
         "2019",
         "2018-2019",
         "Spring 2019"
        ],
        [
         "212",
         "2019-04-11",
         "Bash, Git & R Workshop",
         "Spring",
         "Jon Jablonski",
         "instructor",
         "DREAM Lab",
         "2019",
         "2018-2019",
         "Spring 2019"
        ],
        [
         "318",
         "2019-04-11",
         "Bash, Git & R Workshop",
         "Spring",
         "Kristi Liu",
         "helper",
         "DREAM Lab",
         "2019",
         "2018-2019",
         "Spring 2019"
        ],
        [
         "322",
         "2019-04-11",
         "Bash, Git & R Workshop",
         "Spring",
         "Mary Donovan",
         "instructor",
         "Other",
         "2019",
         "2018-2019",
         "Spring 2019"
        ],
        [
         "335",
         "2019-05-09",
         "Bash, Git & Python Workshop",
         "Spring",
         "Noah Spahn",
         "helper",
         "Other",
         "2019",
         "2018-2019",
         "Spring 2019"
        ],
        [
         "336",
         "2019-04-11",
         "Bash, Git & R Workshop",
         "Spring",
         "Noah Spahn",
         "helper",
         "Other",
         "2019",
         "2018-2019",
         "Spring 2019"
        ],
        [
         "379",
         "2019-05-09",
         "Bash, Git & Python Workshop",
         "Spring",
         "Ryan Avery",
         "instructor",
         "Other",
         "2019",
         "2018-2019",
         "Spring 2019"
        ],
        [
         "433",
         "2019-05-09",
         "Bash, Git & Python Workshop",
         "Spring",
         "Sharon Solis",
         "instructor",
         "Other",
         "2019",
         "2018-2019",
         "Spring 2019"
        ],
        [
         "434",
         "2019-04-11",
         "Bash, Git & R Workshop",
         "Spring",
         "Sharon Solis",
         "instructor",
         "Other",
         "2019",
         "2018-2019",
         "Spring 2019"
        ],
        [
         "467",
         "2019-05-09",
         "Bash, Git & Python Workshop",
         "Spring",
         "Vania Wang",
         "helper",
         "Other",
         "2019",
         "2018-2019",
         "Spring 2019"
        ],
        [
         "474",
         "2019-05-09",
         "Bash, Git & Python Workshop",
         "Spring",
         "Yuan Wu",
         "instructor",
         "Other Library",
         "2019",
         "2018-2019",
         "Spring 2019"
        ],
        [
         "475",
         "2019-04-11",
         "Bash, Git & R Workshop",
         "Spring",
         "Yuan Wu",
         "instructor",
         "Other Library",
         "2019",
         "2018-2019",
         "Spring 2019"
        ],
        [
         "135",
         "2019-06-25",
         "Summer Python Class",
         "Summer",
         "Ian Lessing",
         "instructor",
         "Other Library",
         "2019",
         "2018-2019",
         "Summer 2019"
        ],
        [
         "334",
         "2019-06-25",
         "Summer Python Class",
         "Summer",
         "Noah Spahn",
         "instructor",
         "Other",
         "2019",
         "2018-2019",
         "Summer 2019"
        ],
        [
         "432",
         "2019-06-25",
         "Summer Python Class",
         "Summer",
         "Sharon Solis",
         "instructor",
         "Other",
         "2019",
         "2018-2019",
         "Summer 2019"
        ],
        [
         "466",
         "2019-06-25",
         "Summer Python Class",
         "Summer",
         "Vania Wang",
         "instructor",
         "Other",
         "2019",
         "2018-2019",
         "Summer 2019"
        ],
        [
         "73",
         "2019-11-14",
         "R for Geospatial Data",
         "Fall",
         "Fernanda Ribeiro",
         "helper",
         "Other",
         "2019",
         "2019-2020",
         "Fall 2019"
        ],
        [
         "108",
         "2019-10-10",
         "Plotting and Programming in Python",
         "Fall",
         "Greg Janée",
         "instructor",
         "RDS",
         "2019",
         "2019-2020",
         "Fall 2019"
        ],
        [
         "133",
         "2019-10-24",
         "Git & Bash",
         "Fall",
         "Ian Lessing",
         "instructor",
         "Other Library",
         "2019",
         "2019-2020",
         "Fall 2019"
        ],
        [
         "134",
         "2019-10-10",
         "Plotting and Programming in Python",
         "Fall",
         "Ian Lessing",
         "instructor",
         "Other Library",
         "2019",
         "2019-2020",
         "Fall 2019"
        ],
        [
         "208",
         "2019-11-14",
         "R for Geospatial Data",
         "Fall",
         "Jon Jablonski",
         "instructor",
         "DREAM Lab",
         "2019",
         "2019-2020",
         "Fall 2019"
        ],
        [
         "209",
         "2019-10-24",
         "Git & Bash",
         "Fall",
         "Jon Jablonski",
         "instructor",
         "DREAM Lab",
         "2019",
         "2019-2020",
         "Fall 2019"
        ],
        [
         "210",
         "2019-10-10",
         "Plotting and Programming in Python",
         "Fall",
         "Jon Jablonski",
         "helper",
         "DREAM Lab",
         "2019",
         "2019-2020",
         "Fall 2019"
        ],
        [
         "315",
         "2019-11-14",
         "R for Geospatial Data",
         "Fall",
         "Kristi Liu",
         "helper",
         "DREAM Lab",
         "2019",
         "2019-2020",
         "Fall 2019"
        ],
        [
         "316",
         "2019-10-24",
         "Git & Bash",
         "Fall",
         "Kristi Liu",
         "helper",
         "DREAM Lab",
         "2019",
         "2019-2020",
         "Fall 2019"
        ],
        [
         "317",
         "2019-10-10",
         "Plotting and Programming in Python",
         "Fall",
         "Kristi Liu",
         "helper",
         "DREAM Lab",
         "2019",
         "2019-2020",
         "Fall 2019"
        ],
        [
         "321",
         "2019-11-14",
         "R for Geospatial Data",
         "Fall",
         "Mary Donovan",
         "instructor",
         "Other",
         "2019",
         "2019-2020",
         "Fall 2019"
        ]
       ],
       "shape": {
        "columns": 9,
        "rows": 468
       }
      },
      "text/html": [
       "<div>\n",
       "<style scoped>\n",
       "    .dataframe tbody tr th:only-of-type {\n",
       "        vertical-align: middle;\n",
       "    }\n",
       "\n",
       "    .dataframe tbody tr th {\n",
       "        vertical-align: top;\n",
       "    }\n",
       "\n",
       "    .dataframe thead th {\n",
       "        text-align: right;\n",
       "    }\n",
       "</style>\n",
       "<table border=\"1\" class=\"dataframe\">\n",
       "  <thead>\n",
       "    <tr style=\"text-align: right;\">\n",
       "      <th></th>\n",
       "      <th>date</th>\n",
       "      <th>title_home</th>\n",
       "      <th>quarter</th>\n",
       "      <th>Name</th>\n",
       "      <th>role</th>\n",
       "      <th>Affiliation</th>\n",
       "      <th>year</th>\n",
       "      <th>academic-year</th>\n",
       "      <th>quarter-year</th>\n",
       "    </tr>\n",
       "  </thead>\n",
       "  <tbody>\n",
       "    <tr>\n",
       "      <th>111</th>\n",
       "      <td>2019-03-21</td>\n",
       "      <td>Bash, Git &amp; R</td>\n",
       "      <td>Winter</td>\n",
       "      <td>Greg Janée</td>\n",
       "      <td>instructor</td>\n",
       "      <td>RDS</td>\n",
       "      <td>2019</td>\n",
       "      <td>2018-2019</td>\n",
       "      <td>Winter 2019</td>\n",
       "    </tr>\n",
       "    <tr>\n",
       "      <th>112</th>\n",
       "      <td>2019-02-21</td>\n",
       "      <td>Bash, Git &amp; R</td>\n",
       "      <td>Winter</td>\n",
       "      <td>Greg Janée</td>\n",
       "      <td>instructor</td>\n",
       "      <td>RDS</td>\n",
       "      <td>2019</td>\n",
       "      <td>2018-2019</td>\n",
       "      <td>Winter 2019</td>\n",
       "    </tr>\n",
       "    <tr>\n",
       "      <th>113</th>\n",
       "      <td>2019-01-25</td>\n",
       "      <td>Bash, Git &amp; R</td>\n",
       "      <td>Winter</td>\n",
       "      <td>Greg Janée</td>\n",
       "      <td>instructor</td>\n",
       "      <td>RDS</td>\n",
       "      <td>2019</td>\n",
       "      <td>2018-2019</td>\n",
       "      <td>Winter 2019</td>\n",
       "    </tr>\n",
       "    <tr>\n",
       "      <th>138</th>\n",
       "      <td>2019-03-21</td>\n",
       "      <td>Bash, Git &amp; R</td>\n",
       "      <td>Winter</td>\n",
       "      <td>Ian Lessing</td>\n",
       "      <td>instructor</td>\n",
       "      <td>Other Library</td>\n",
       "      <td>2019</td>\n",
       "      <td>2018-2019</td>\n",
       "      <td>Winter 2019</td>\n",
       "    </tr>\n",
       "    <tr>\n",
       "      <th>139</th>\n",
       "      <td>2019-02-21</td>\n",
       "      <td>Bash, Git &amp; R</td>\n",
       "      <td>Winter</td>\n",
       "      <td>Ian Lessing</td>\n",
       "      <td>instructor</td>\n",
       "      <td>Other Library</td>\n",
       "      <td>2019</td>\n",
       "      <td>2018-2019</td>\n",
       "      <td>Winter 2019</td>\n",
       "    </tr>\n",
       "    <tr>\n",
       "      <th>...</th>\n",
       "      <td>...</td>\n",
       "      <td>...</td>\n",
       "      <td>...</td>\n",
       "      <td>...</td>\n",
       "      <td>...</td>\n",
       "      <td>...</td>\n",
       "      <td>...</td>\n",
       "      <td>...</td>\n",
       "      <td>...</td>\n",
       "    </tr>\n",
       "    <tr>\n",
       "      <th>402</th>\n",
       "      <td>2025-01-14</td>\n",
       "      <td>Introduction to Data Analysis with Python</td>\n",
       "      <td>Winter</td>\n",
       "      <td>Seth Erickson</td>\n",
       "      <td>instructor</td>\n",
       "      <td>DREAM Lab</td>\n",
       "      <td>2025</td>\n",
       "      <td>2024-2025</td>\n",
       "      <td>Winter 2025</td>\n",
       "    </tr>\n",
       "    <tr>\n",
       "      <th>438</th>\n",
       "      <td>2025-02-18</td>\n",
       "      <td>Intermediate R</td>\n",
       "      <td>Winter</td>\n",
       "      <td>Sigrid Van Den Abbeele</td>\n",
       "      <td>instructor</td>\n",
       "      <td>Other</td>\n",
       "      <td>2025</td>\n",
       "      <td>2024-2025</td>\n",
       "      <td>Winter 2025</td>\n",
       "    </tr>\n",
       "    <tr>\n",
       "      <th>439</th>\n",
       "      <td>2025-01-23</td>\n",
       "      <td>Working with Geospatial Data in R</td>\n",
       "      <td>Winter</td>\n",
       "      <td>Sigrid Van Den Abbeele</td>\n",
       "      <td>instructor</td>\n",
       "      <td>Other</td>\n",
       "      <td>2025</td>\n",
       "      <td>2024-2025</td>\n",
       "      <td>Winter 2025</td>\n",
       "    </tr>\n",
       "    <tr>\n",
       "      <th>440</th>\n",
       "      <td>2025-01-14</td>\n",
       "      <td>Introduction to Data Analysis with Python</td>\n",
       "      <td>Winter</td>\n",
       "      <td>Sigrid Van Den Abbeele</td>\n",
       "      <td>helper</td>\n",
       "      <td>Other</td>\n",
       "      <td>2025</td>\n",
       "      <td>2024-2025</td>\n",
       "      <td>Winter 2025</td>\n",
       "    </tr>\n",
       "    <tr>\n",
       "      <th>444</th>\n",
       "      <td>2025-01-14</td>\n",
       "      <td>Introduction to Data Analysis with Python</td>\n",
       "      <td>Winter</td>\n",
       "      <td>Tess Ivinjack</td>\n",
       "      <td>helper</td>\n",
       "      <td>Other</td>\n",
       "      <td>2025</td>\n",
       "      <td>2024-2025</td>\n",
       "      <td>Winter 2025</td>\n",
       "    </tr>\n",
       "  </tbody>\n",
       "</table>\n",
       "<p>468 rows × 9 columns</p>\n",
       "</div>"
      ],
      "text/plain": [
       "           date                                 title_home quarter  \\\n",
       "111  2019-03-21                              Bash, Git & R  Winter   \n",
       "112  2019-02-21                              Bash, Git & R  Winter   \n",
       "113  2019-01-25                              Bash, Git & R  Winter   \n",
       "138  2019-03-21                              Bash, Git & R  Winter   \n",
       "139  2019-02-21                              Bash, Git & R  Winter   \n",
       "..          ...                                        ...     ...   \n",
       "402  2025-01-14  Introduction to Data Analysis with Python  Winter   \n",
       "438  2025-02-18                             Intermediate R  Winter   \n",
       "439  2025-01-23          Working with Geospatial Data in R  Winter   \n",
       "440  2025-01-14  Introduction to Data Analysis with Python  Winter   \n",
       "444  2025-01-14  Introduction to Data Analysis with Python  Winter   \n",
       "\n",
       "                       Name        role    Affiliation  year academic-year  \\\n",
       "111              Greg Janée  instructor            RDS  2019     2018-2019   \n",
       "112              Greg Janée  instructor            RDS  2019     2018-2019   \n",
       "113              Greg Janée  instructor            RDS  2019     2018-2019   \n",
       "138             Ian Lessing  instructor  Other Library  2019     2018-2019   \n",
       "139             Ian Lessing  instructor  Other Library  2019     2018-2019   \n",
       "..                      ...         ...            ...   ...           ...   \n",
       "402           Seth Erickson  instructor      DREAM Lab  2025     2024-2025   \n",
       "438  Sigrid Van Den Abbeele  instructor          Other  2025     2024-2025   \n",
       "439  Sigrid Van Den Abbeele  instructor          Other  2025     2024-2025   \n",
       "440  Sigrid Van Den Abbeele      helper          Other  2025     2024-2025   \n",
       "444           Tess Ivinjack      helper          Other  2025     2024-2025   \n",
       "\n",
       "    quarter-year  \n",
       "111  Winter 2019  \n",
       "112  Winter 2019  \n",
       "113  Winter 2019  \n",
       "138  Winter 2019  \n",
       "139  Winter 2019  \n",
       "..           ...  \n",
       "402  Winter 2025  \n",
       "438  Winter 2025  \n",
       "439  Winter 2025  \n",
       "440  Winter 2025  \n",
       "444  Winter 2025  \n",
       "\n",
       "[468 rows x 9 columns]"
      ]
     },
     "execution_count": 43,
     "metadata": {},
     "output_type": "execute_result"
    }
   ],
   "source": [
    "df"
   ]
  },
  {
   "cell_type": "code",
   "execution_count": 41,
   "metadata": {},
   "outputs": [
    {
     "data": {
      "image/png": "[encoded data removed]",
      "text/plain": [
       "<Figure size 1000x700 with 1 Axes>"
      ]
     },
     "metadata": {},
     "output_type": "display_data"
    }
   ],
   "source": [
    "# Group by 'quarter-year' and 'Affiliation' and count occurrences\n",
    "grouped = df.groupby(['quarter-year', 'Affiliation']).size().unstack(fill_value=0)\n",
    "\n",
    "# Sort the index of the grouped DataFrame using the custom sort key\n",
    "grouped = grouped.reindex(sorted(grouped.index, key=sort_quarter_year), axis=0)\n",
    "\n",
    "# Reorder columns (Affiliation) in the desired order\n",
    "desired_order = ['DREAM Lab', 'RDS', 'Other Library', 'Other']\n",
    "grouped = grouped.reindex(columns=desired_order, fill_value=0)\n",
    "\n",
    "# Plot the stacked bar plot\n",
    "grouped.plot(kind='bar', stacked=True, figsize=(10, 7), colormap='tab20')\n",
    "\n",
    "# Add title, labels, and legend\n",
    "plt.title('Instructors/Helpers - Number of participations by affiliation and quarter', fontsize=16)\n",
    "plt.xlabel('Quarter-Year', fontsize=12)\n",
    "plt.ylabel('Count', fontsize=12)\n",
    "plt.legend(title='Affiliation')\n",
    "\n",
    "# Display the plot\n",
    "plt.tight_layout()\n",
    "plt.savefig('plots/int_help_number_quarter.png', dpi=300, bbox_inches='tight')\n",
    "plt.show()"
   ]
  },
  {
   "cell_type": "code",
   "execution_count": 42,
   "metadata": {},
   "outputs": [
    {
     "data": {
      "application/vnd.microsoft.datawrangler.viewer.v0+json": {
       "columns": [
        {
         "name": "quarter-year",
         "rawType": "object",
         "type": "string"
        },
        {
         "name": "DREAM Lab",
         "rawType": "int64",
         "type": "integer"
        },
        {
         "name": "RDS",
         "rawType": "int64",
         "type": "integer"
        },
        {
         "name": "Other Library",
         "rawType": "int64",
         "type": "integer"
        },
        {
         "name": "Other",
         "rawType": "int64",
         "type": "integer"
        }
       ],
       "conversionMethod": "pd.DataFrame",
       "ref": "466b93e1-608f-4ab1-86ec-00e843919754",
       "rows": [
        [
         "Winter 2019",
         "3",
         "3",
         "6",
         "7"
        ],
        [
         "Spring 2019",
         "3",
         "2",
         "4",
         "7"
        ],
        [
         "Summer 2019",
         "0",
         "0",
         "1",
         "3"
        ],
        [
         "Fall 2019",
         "6",
         "1",
         "5",
         "6"
        ],
        [
         "Winter 2020",
         "9",
         "1",
         "3",
         "1"
        ],
        [
         "Spring 2020",
         "6",
         "4",
         "1",
         "7"
        ],
        [
         "Summer 2020",
         "9",
         "2",
         "2",
         "8"
        ],
        [
         "Fall 2020",
         "9",
         "5",
         "2",
         "1"
        ],
        [
         "Winter 2021",
         "9",
         "2",
         "3",
         "6"
        ],
        [
         "Spring 2021",
         "5",
         "2",
         "1",
         "6"
        ],
        [
         "Summer 2021",
         "9",
         "5",
         "1",
         "6"
        ],
        [
         "Fall 2021",
         "10",
         "3",
         "2",
         "8"
        ],
        [
         "Winter 2022",
         "31",
         "6",
         "1",
         "16"
        ],
        [
         "Spring 2022",
         "22",
         "6",
         "0",
         "6"
        ],
        [
         "Summer 2022",
         "19",
         "2",
         "0",
         "4"
        ],
        [
         "Fall 2022",
         "11",
         "5",
         "1",
         "3"
        ],
        [
         "Winter 2023",
         "5",
         "2",
         "1",
         "2"
        ],
        [
         "Spring 2023",
         "9",
         "3",
         "0",
         "2"
        ],
        [
         "Summer 2023",
         "3",
         "0",
         "0",
         "0"
        ],
        [
         "Fall 2023",
         "5",
         "5",
         "1",
         "0"
        ],
        [
         "Winter 2024",
         "4",
         "2",
         "0",
         "2"
        ],
        [
         "Spring 2024",
         "8",
         "2",
         "0",
         "7"
        ],
        [
         "Summer 2024",
         "6",
         "2",
         "0",
         "0"
        ],
        [
         "Fall 2024",
         "9",
         "6",
         "1",
         "7"
        ],
        [
         "Winter 2025",
         "12",
         "3",
         "0",
         "17"
        ]
       ],
       "shape": {
        "columns": 4,
        "rows": 25
       }
      },
      "text/html": [
       "<div>\n",
       "<style scoped>\n",
       "    .dataframe tbody tr th:only-of-type {\n",
       "        vertical-align: middle;\n",
       "    }\n",
       "\n",
       "    .dataframe tbody tr th {\n",
       "        vertical-align: top;\n",
       "    }\n",
       "\n",
       "    .dataframe thead th {\n",
       "        text-align: right;\n",
       "    }\n",
       "</style>\n",
       "<table border=\"1\" class=\"dataframe\">\n",
       "  <thead>\n",
       "    <tr style=\"text-align: right;\">\n",
       "      <th>Affiliation</th>\n",
       "      <th>DREAM Lab</th>\n",
       "      <th>RDS</th>\n",
       "      <th>Other Library</th>\n",
       "      <th>Other</th>\n",
       "    </tr>\n",
       "    <tr>\n",
       "      <th>quarter-year</th>\n",
       "      <th></th>\n",
       "      <th></th>\n",
       "      <th></th>\n",
       "      <th></th>\n",
       "    </tr>\n",
       "  </thead>\n",
       "  <tbody>\n",
       "    <tr>\n",
       "      <th>Winter 2019</th>\n",
       "      <td>3</td>\n",
       "      <td>3</td>\n",
       "      <td>6</td>\n",
       "      <td>7</td>\n",
       "    </tr>\n",
       "    <tr>\n",
       "      <th>Spring 2019</th>\n",
       "      <td>3</td>\n",
       "      <td>2</td>\n",
       "      <td>4</td>\n",
       "      <td>7</td>\n",
       "    </tr>\n",
       "    <tr>\n",
       "      <th>Summer 2019</th>\n",
       "      <td>0</td>\n",
       "      <td>0</td>\n",
       "      <td>1</td>\n",
       "      <td>3</td>\n",
       "    </tr>\n",
       "    <tr>\n",
       "      <th>Fall 2019</th>\n",
       "      <td>6</td>\n",
       "      <td>1</td>\n",
       "      <td>5</td>\n",
       "      <td>6</td>\n",
       "    </tr>\n",
       "    <tr>\n",
       "      <th>Winter 2020</th>\n",
       "      <td>9</td>\n",
       "      <td>1</td>\n",
       "      <td>3</td>\n",
       "      <td>1</td>\n",
       "    </tr>\n",
       "    <tr>\n",
       "      <th>Spring 2020</th>\n",
       "      <td>6</td>\n",
       "      <td>4</td>\n",
       "      <td>1</td>\n",
       "      <td>7</td>\n",
       "    </tr>\n",
       "    <tr>\n",
       "      <th>Summer 2020</th>\n",
       "      <td>9</td>\n",
       "      <td>2</td>\n",
       "      <td>2</td>\n",
       "      <td>8</td>\n",
       "    </tr>\n",
       "    <tr>\n",
       "      <th>Fall 2020</th>\n",
       "      <td>9</td>\n",
       "      <td>5</td>\n",
       "      <td>2</td>\n",
       "      <td>1</td>\n",
       "    </tr>\n",
       "    <tr>\n",
       "      <th>Winter 2021</th>\n",
       "      <td>9</td>\n",
       "      <td>2</td>\n",
       "      <td>3</td>\n",
       "      <td>6</td>\n",
       "    </tr>\n",
       "    <tr>\n",
       "      <th>Spring 2021</th>\n",
       "      <td>5</td>\n",
       "      <td>2</td>\n",
       "      <td>1</td>\n",
       "      <td>6</td>\n",
       "    </tr>\n",
       "    <tr>\n",
       "      <th>Summer 2021</th>\n",
       "      <td>9</td>\n",
       "      <td>5</td>\n",
       "      <td>1</td>\n",
       "      <td>6</td>\n",
       "    </tr>\n",
       "    <tr>\n",
       "      <th>Fall 2021</th>\n",
       "      <td>10</td>\n",
       "      <td>3</td>\n",
       "      <td>2</td>\n",
       "      <td>8</td>\n",
       "    </tr>\n",
       "    <tr>\n",
       "      <th>Winter 2022</th>\n",
       "      <td>31</td>\n",
       "      <td>6</td>\n",
       "      <td>1</td>\n",
       "      <td>16</td>\n",
       "    </tr>\n",
       "    <tr>\n",
       "      <th>Spring 2022</th>\n",
       "      <td>22</td>\n",
       "      <td>6</td>\n",
       "      <td>0</td>\n",
       "      <td>6</td>\n",
       "    </tr>\n",
       "    <tr>\n",
       "      <th>Summer 2022</th>\n",
       "      <td>19</td>\n",
       "      <td>2</td>\n",
       "      <td>0</td>\n",
       "      <td>4</td>\n",
       "    </tr>\n",
       "    <tr>\n",
       "      <th>Fall 2022</th>\n",
       "      <td>11</td>\n",
       "      <td>5</td>\n",
       "      <td>1</td>\n",
       "      <td>3</td>\n",
       "    </tr>\n",
       "    <tr>\n",
       "      <th>Winter 2023</th>\n",
       "      <td>5</td>\n",
       "      <td>2</td>\n",
       "      <td>1</td>\n",
       "      <td>2</td>\n",
       "    </tr>\n",
       "    <tr>\n",
       "      <th>Spring 2023</th>\n",
       "      <td>9</td>\n",
       "      <td>3</td>\n",
       "      <td>0</td>\n",
       "      <td>2</td>\n",
       "    </tr>\n",
       "    <tr>\n",
       "      <th>Summer 2023</th>\n",
       "      <td>3</td>\n",
       "      <td>0</td>\n",
       "      <td>0</td>\n",
       "      <td>0</td>\n",
       "    </tr>\n",
       "    <tr>\n",
       "      <th>Fall 2023</th>\n",
       "      <td>5</td>\n",
       "      <td>5</td>\n",
       "      <td>1</td>\n",
       "      <td>0</td>\n",
       "    </tr>\n",
       "    <tr>\n",
       "      <th>Winter 2024</th>\n",
       "      <td>4</td>\n",
       "      <td>2</td>\n",
       "      <td>0</td>\n",
       "      <td>2</td>\n",
       "    </tr>\n",
       "    <tr>\n",
       "      <th>Spring 2024</th>\n",
       "      <td>8</td>\n",
       "      <td>2</td>\n",
       "      <td>0</td>\n",
       "      <td>7</td>\n",
       "    </tr>\n",
       "    <tr>\n",
       "      <th>Summer 2024</th>\n",
       "      <td>6</td>\n",
       "      <td>2</td>\n",
       "      <td>0</td>\n",
       "      <td>0</td>\n",
       "    </tr>\n",
       "    <tr>\n",
       "      <th>Fall 2024</th>\n",
       "      <td>9</td>\n",
       "      <td>6</td>\n",
       "      <td>1</td>\n",
       "      <td>7</td>\n",
       "    </tr>\n",
       "    <tr>\n",
       "      <th>Winter 2025</th>\n",
       "      <td>12</td>\n",
       "      <td>3</td>\n",
       "      <td>0</td>\n",
       "      <td>17</td>\n",
       "    </tr>\n",
       "  </tbody>\n",
       "</table>\n",
       "</div>"
      ],
      "text/plain": [
       "Affiliation   DREAM Lab  RDS  Other Library  Other\n",
       "quarter-year                                      \n",
       "Winter 2019           3    3              6      7\n",
       "Spring 2019           3    2              4      7\n",
       "Summer 2019           0    0              1      3\n",
       "Fall 2019             6    1              5      6\n",
       "Winter 2020           9    1              3      1\n",
       "Spring 2020           6    4              1      7\n",
       "Summer 2020           9    2              2      8\n",
       "Fall 2020             9    5              2      1\n",
       "Winter 2021           9    2              3      6\n",
       "Spring 2021           5    2              1      6\n",
       "Summer 2021           9    5              1      6\n",
       "Fall 2021            10    3              2      8\n",
       "Winter 2022          31    6              1     16\n",
       "Spring 2022          22    6              0      6\n",
       "Summer 2022          19    2              0      4\n",
       "Fall 2022            11    5              1      3\n",
       "Winter 2023           5    2              1      2\n",
       "Spring 2023           9    3              0      2\n",
       "Summer 2023           3    0              0      0\n",
       "Fall 2023             5    5              1      0\n",
       "Winter 2024           4    2              0      2\n",
       "Spring 2024           8    2              0      7\n",
       "Summer 2024           6    2              0      0\n",
       "Fall 2024             9    6              1      7\n",
       "Winter 2025          12    3              0     17"
      ]
     },
     "execution_count": 42,
     "metadata": {},
     "output_type": "execute_result"
    }
   ],
   "source": [
    "grouped"
   ]
  },
  {
   "cell_type": "code",
   "execution_count": 32,
   "metadata": {},
   "outputs": [
    {
     "data": {
      "image/png": "[encoded data removed]",
      "text/plain": [
       "<Figure size 1000x700 with 1 Axes>"
      ]
     },
     "metadata": {},
     "output_type": "display_data"
    }
   ],
   "source": [
    "# Convert the counts to percentages (row-wise)\n",
    "grouped_percent = grouped.div(grouped.sum(axis=1), axis=0) * 100\n",
    "\n",
    "# Plot the stacked percentage bar plot\n",
    "grouped_percent.plot(kind='bar', stacked=True, figsize=(10, 7), colormap='tab20')\n",
    "\n",
    "# Add title, labels, and legend\n",
    "plt.title('Instructors/Helpers - Percentage of participations by affiliation and quarter', fontsize=16)\n",
    "plt.xlabel('Quarter-Year', fontsize=12)\n",
    "plt.ylabel('Percentage', fontsize=12)\n",
    "plt.legend(title='Affiliation', loc='center left', bbox_to_anchor=(1, 0.5))\n",
    "\n",
    "# Ensure the y-axis ranges from 0 to 100%\n",
    "plt.ylim(0, 100)\n",
    "\n",
    "# Display the plot\n",
    "plt.tight_layout()\n",
    "plt.savefig('plots/int_help_perc_quarter.png', dpi=300, bbox_inches='tight')\n",
    "plt.show()"
   ]
  },
  {
   "cell_type": "code",
   "execution_count": 33,
   "metadata": {},
   "outputs": [
    {
     "data": {
      "image/png": "[encoded data removed]",
      "text/plain": [
       "<Figure size 1000x700 with 1 Axes>"
      ]
     },
     "metadata": {},
     "output_type": "display_data"
    }
   ],
   "source": [
    "# Group by 'quarter-year' and 'Affiliation' and count occurrences\n",
    "data = df[df['role'] == 'instructor']\n",
    "grouped = data.groupby(['quarter-year', 'Affiliation']).size().unstack(fill_value=0)\n",
    "\n",
    "# Ensure the x-axis is in the correct order\n",
    "grouped = grouped.reindex(sorted(grouped.index, key=sort_quarter_year), axis=0)\n",
    "\n",
    "# Reorder columns (Affiliation) in the desired order\n",
    "desired_order = ['DREAM Lab', 'RDS', 'Other Library', 'Other']\n",
    "grouped = grouped.reindex(columns=desired_order, fill_value=0)\n",
    "\n",
    "# Plot the stacked bar plot\n",
    "grouped.plot(kind='bar', stacked=True, figsize=(10, 7), colormap='tab20')\n",
    "\n",
    "# Add title, labels, and legend\n",
    "plt.title('Instructors - Number of participations by affiliation and quarter', fontsize=16)\n",
    "plt.xlabel('Quarter-Year', fontsize=12)\n",
    "plt.ylabel('Count', fontsize=12)\n",
    "plt.legend(title='Affiliation')\n",
    "\n",
    "# Display the plot\n",
    "plt.tight_layout()\n",
    "plt.savefig('plots/int_number_quarter.png', dpi=300, bbox_inches='tight')\n",
    "plt.show()"
   ]
  },
  {
   "cell_type": "code",
   "execution_count": 34,
   "metadata": {},
   "outputs": [
    {
     "data": {
      "image/png": "[encoded data removed]",
      "text/plain": [
       "<Figure size 1000x700 with 1 Axes>"
      ]
     },
     "metadata": {},
     "output_type": "display_data"
    }
   ],
   "source": [
    "# Convert the counts to percentages (row-wise)\n",
    "grouped_percent = grouped.div(grouped.sum(axis=1), axis=0) * 100\n",
    "\n",
    "# Plot the stacked percentage bar plot\n",
    "grouped_percent.plot(kind='bar', stacked=True, figsize=(10, 7), colormap='tab20')\n",
    "\n",
    "# Add title, labels, and legend\n",
    "plt.title('Instructors - Percentage of participations by affiliation and quarter', fontsize=16)\n",
    "plt.xlabel('Quarter-Year', fontsize=12)\n",
    "plt.ylabel('Percentage', fontsize=12)\n",
    "plt.legend(title='Affiliation', loc='center left', bbox_to_anchor=(1, 0.5))\n",
    "\n",
    "# Ensure the y-axis ranges from 0 to 100%\n",
    "plt.ylim(0, 100)\n",
    "\n",
    "# Display the plot\n",
    "plt.tight_layout()\n",
    "plt.savefig('plots/int_perc_quarter.png', dpi=300, bbox_inches='tight')\n",
    "plt.show()"
   ]
  },
  {
   "cell_type": "code",
   "execution_count": 35,
   "metadata": {},
   "outputs": [
    {
     "data": {
      "image/png": "[encoded data removed]",
      "text/plain": [
       "<Figure size 1000x700 with 1 Axes>"
      ]
     },
     "metadata": {},
     "output_type": "display_data"
    }
   ],
   "source": [
    "# Group by 'quarter-year' and 'Affiliation' and count occurrences\n",
    "grouped = df.groupby(['academic-year', 'Affiliation']).size().unstack(fill_value=0)\n",
    "total = grouped.sum(axis=0)\n",
    "total.name = 'Total'\n",
    "grouped = pd.concat([grouped, total.to_frame().T])\n",
    "# Reorder columns (Affiliation) in the desired order\n",
    "desired_order = ['DREAM Lab', 'RDS', 'Other Library', 'Other']\n",
    "grouped = grouped.reindex(columns=desired_order, fill_value=0)\n",
    "\n",
    "# Plot the stacked bar plot\n",
    "grouped.drop(index='Total').plot(kind='bar', stacked=True, figsize=(10, 7), colormap='tab20')\n",
    "\n",
    "# Add title, labels, and legend\n",
    "plt.title('Instructors/Helpers - Number of participations by affiliation and academic year', fontsize=16)\n",
    "plt.xlabel('Academic Year', fontsize=12)\n",
    "plt.ylabel('Count', fontsize=12)\n",
    "plt.legend(title='Affiliation')\n",
    "\n",
    "# Display the plot\n",
    "plt.tight_layout()\n",
    "plt.savefig('plots/int_help_number_year.png', dpi=300, bbox_inches='tight')\n",
    "plt.show()"
   ]
  },
  {
   "cell_type": "code",
   "execution_count": 36,
   "metadata": {},
   "outputs": [
    {
     "data": {
      "image/png": "[encoded data removed]",
      "text/plain": [
       "<Figure size 1000x700 with 1 Axes>"
      ]
     },
     "metadata": {},
     "output_type": "display_data"
    }
   ],
   "source": [
    "# Convert the counts to percentages (row-wise)\n",
    "grouped_percent = grouped.div(grouped.sum(axis=1), axis=0) * 100\n",
    "\n",
    "# Plot the stacked percentage bar plot\n",
    "grouped_percent.plot(kind='bar', stacked=True, figsize=(10, 7), colormap='tab20')\n",
    "\n",
    "# Add title, labels, and legend\n",
    "plt.title('Instructors/Helpers - Percentage of participations by affiliation and academic year', fontsize=16)\n",
    "plt.xlabel('Academic year', fontsize=12)\n",
    "plt.ylabel('Percentage', fontsize=12)\n",
    "plt.legend(title='Affiliation', loc='center left', bbox_to_anchor=(1, 0.5))\n",
    "\n",
    "# Ensure the y-axis ranges from 0 to 100%\n",
    "plt.ylim(0, 100)\n",
    "\n",
    "# Display the plot\n",
    "plt.tight_layout()\n",
    "plt.savefig('plots/int_help_perc_year.png', dpi=300, bbox_inches='tight')\n",
    "plt.show()"
   ]
  },
  {
   "cell_type": "code",
   "execution_count": 37,
   "metadata": {},
   "outputs": [
    {
     "data": {
      "image/png": "[encoded data removed]",
      "text/plain": [
       "<Figure size 1000x700 with 1 Axes>"
      ]
     },
     "metadata": {},
     "output_type": "display_data"
    }
   ],
   "source": [
    "# Group by 'quarter-year' and 'Affiliation' and count occurrences\n",
    "data = df[df['role'] == 'instructor']\n",
    "grouped = data.groupby(['academic-year', 'Affiliation']).size().unstack(fill_value=0)\n",
    "total = grouped.sum(axis=0)\n",
    "total.name = 'Total'\n",
    "grouped = pd.concat([grouped, total.to_frame().T])\n",
    "# Reorder columns (Affiliation) in the desired order\n",
    "desired_order = ['DREAM Lab', 'RDS', 'Other Library', 'Other']\n",
    "grouped = grouped.reindex(columns=desired_order, fill_value=0)\n",
    "\n",
    "# Plot the stacked bar plot\n",
    "grouped.drop(index='Total').plot(kind='bar', stacked=True, figsize=(10, 7), colormap='tab20')\n",
    "\n",
    "# Add title, labels, and legend\n",
    "plt.title('Instructors - Number of participations by affiliation and academic year', fontsize=16)\n",
    "plt.xlabel('Academic Year', fontsize=12)\n",
    "plt.ylabel('Count', fontsize=12)\n",
    "plt.legend(title='Affiliation')\n",
    "\n",
    "# Display the plot\n",
    "plt.tight_layout()\n",
    "plt.savefig('plots/int_number_year.png', dpi=300, bbox_inches='tight')\n",
    "plt.show()"
   ]
  },
  {
   "cell_type": "code",
   "execution_count": 38,
   "metadata": {},
   "outputs": [
    {
     "data": {
      "image/png": "[encoded data removed]",
      "text/plain": [
       "<Figure size 1000x700 with 1 Axes>"
      ]
     },
     "metadata": {},
     "output_type": "display_data"
    }
   ],
   "source": [
    "# Convert the counts to percentages (row-wise)\n",
    "grouped_percent = grouped.div(grouped.sum(axis=1), axis=0) * 100\n",
    "\n",
    "# Plot the stacked percentage bar plot\n",
    "grouped_percent.plot(kind='bar', stacked=True, figsize=(10, 7), colormap='tab20')\n",
    "\n",
    "# Add title, labels, and legend\n",
    "plt.title('Instructors - Percentage of participations by affiliation and academic year', fontsize=16)\n",
    "plt.xlabel('Academic Year', fontsize=12)\n",
    "plt.ylabel('Percentage', fontsize=12)\n",
    "plt.legend(title='Affiliation', loc='center left', bbox_to_anchor=(1, 0.5))\n",
    "\n",
    "# Ensure the y-axis ranges from 0 to 100%\n",
    "plt.ylim(0, 100)\n",
    "\n",
    "# Display the plot\n",
    "plt.tight_layout()\n",
    "plt.savefig('plots/int_perc_year.png', dpi=300, bbox_inches='tight')\n",
    "plt.show()"
   ]
  }
 ],
 "metadata": {
  "kernelspec": {
   "display_name": "workshops-list",
   "language": "python",
   "name": "python3"
  },
  "language_info": {
   "codemirror_mode": {
    "name": "ipython",
    "version": 3
   },
   "file_extension": ".py",
   "mimetype": "text/x-python",
   "name": "python",
   "nbconvert_exporter": "python",
   "pygments_lexer": "ipython3",
   "version": "3.12.4"
  }
 },
 "nbformat": 4,
 "nbformat_minor": 2
}
